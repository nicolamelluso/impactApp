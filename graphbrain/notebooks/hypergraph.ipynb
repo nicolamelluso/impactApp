{
 "cells": [
  {
   "cell_type": "markdown",
   "metadata": {},
   "source": [
    "# Hypergraph operations\n",
    "\n",
    "This notebook provides examples of several operations with an hypergraph, namely:\n",
    "\n",
    "* Creating an hypergraph\n",
    "* Adding the result of parsing natural text to an hypergraph\n",
    "* Pattern-based queries"
   ]
  },
  {
   "cell_type": "code",
   "execution_count": 1,
   "metadata": {
    "ExecuteTime": {
     "end_time": "2020-04-06T14:32:40.854027Z",
     "start_time": "2020-04-06T14:32:39.488768Z"
    }
   },
   "outputs": [],
   "source": [
    "from graphbrain import *\n",
    "from graphbrain.notebook import *\n",
    "from graphbrain.parsers import *"
   ]
  },
  {
   "cell_type": "markdown",
   "metadata": {},
   "source": [
    "## Create the hypergraph"
   ]
  },
  {
   "cell_type": "code",
   "execution_count": 2,
   "metadata": {
    "ExecuteTime": {
     "end_time": "2020-04-06T14:32:40.911532Z",
     "start_time": "2020-04-06T14:32:40.886226Z"
    }
   },
   "outputs": [],
   "source": [
    "hg = hgraph('example.hg')"
   ]
  },
  {
   "cell_type": "markdown",
   "metadata": {},
   "source": [
    "## Create the parser"
   ]
  },
  {
   "cell_type": "code",
   "execution_count": 3,
   "metadata": {
    "ExecuteTime": {
     "end_time": "2020-04-06T14:32:59.712483Z",
     "start_time": "2020-04-06T14:32:40.923907Z"
    }
   },
   "outputs": [],
   "source": [
    "parser = create_parser(name='en')"
   ]
  },
  {
   "cell_type": "markdown",
   "metadata": {},
   "source": [
    "## Parse text and add to hypergraph"
   ]
  },
  {
   "cell_type": "code",
   "execution_count": 4,
   "metadata": {
    "ExecuteTime": {
     "end_time": "2020-04-06T14:32:59.743708Z",
     "start_time": "2020-04-06T14:32:59.715474Z"
    }
   },
   "outputs": [
    {
     "data": {
      "text/html": [
       "<span style=\"color:#a65628\"><span style=\"font-weight:bold;font-size:12pt;\">(</span><span style=\"color:#377eb8\"><span style=\"font-weight:bold;font-size:12pt;\">(</span><span style=\"font-size:12pt;\"><span style=\"font-weight:bold;color:#377eb8\">is</span></span> <span style=\"font-size:12pt;\"><span style=\"font-weight:bold;color:#404040\">playing</span></span><span style=\"color:#377eb8\"><span style=\"font-weight:bold;font-size:12pt;\">)</span></span></span> <div style=\"margin-left:20px;font-size:12pt;\"><span style=\"color:#404040\">mary</span></div> <div style=\"margin-left:20px;color:#377eb8\"><span style=\"font-weight:bold;font-size:12pt;\">(</span><span style=\"font-size:12pt;\"><span style=\"font-weight:bold;color:#377eb8\">a</span></span> <span style=\"color:#4daf4a\"><span style=\"font-weight:bold;font-size:12pt;\">(</span><span style=\"color:#984ea3\"><span style=\"font-weight:bold;font-size:12pt;\">(</span><span style=\"font-size:12pt;\"><span style=\"font-weight:bold;color:#984ea3\">very</span></span> <span style=\"font-size:12pt;\"><span style=\"font-weight:bold;color:#404040\">old</span></span><span style=\"color:#984ea3\"><span style=\"font-weight:bold;font-size:12pt;\">)</span></span></span> <span style=\"font-size:12pt;\"><span style=\"color:#404040\">violin</span></span><span style=\"color:#4daf4a\"><span style=\"font-weight:bold;font-size:12pt;\">)</span></span><span style=\"color:#377eb8\"><span style=\"font-weight:bold;font-size:12pt;\">)</span></span><span style=\"color:#a65628\"><span style=\"font-weight:bold;font-size:12pt;\">)</span></span></span></div></span>"
      ],
      "text/plain": [
       "<IPython.core.display.HTML object>"
      ]
     },
     "metadata": {},
     "output_type": "display_data"
    }
   ],
   "source": [
    "# change to whatever you like...\n",
    "text = \"\"\"\n",
    "Mary is playing a very old violin.\n",
    "\"\"\"\n",
    "\n",
    "parse_results = parser.parse(text)\n",
    "for parse in parse_results['parses']:\n",
    "    edge = parse['main_edge']\n",
    "    show(edge, style='compact')\n",
    "    hg.add(edge)"
   ]
  },
  {
   "cell_type": "markdown",
   "metadata": {},
   "source": [
    "## Iterate through all edges"
   ]
  },
  {
   "cell_type": "code",
   "execution_count": 5,
   "metadata": {
    "ExecuteTime": {
     "end_time": "2020-04-06T14:32:59.773263Z",
     "start_time": "2020-04-06T14:32:59.746542Z"
    }
   },
   "outputs": [
    {
     "data": {
      "text/html": [
       "<span style=\"color:#a65628\"><span style=\"font-weight:bold;font-size:11pt;\">(</span><span style=\"color:#377eb8\"><span style=\"font-weight:bold;font-size:11pt;\">(</span><span style=\"font-size:11pt;\"><span style=\"font-weight:bold;color:#377eb8\">is</span><span style=\"color:#7F7F6F;font-size:8pt\">/Av.|f--3s-/en</span></span> <span style=\"font-size:11pt;\"><span style=\"font-weight:bold;color:#404040\">playing</span><span style=\"color:#7F7F6F;font-size:8pt\">/Pd.so.|pg----/en</span></span><span style=\"color:#377eb8\"><span style=\"font-weight:bold;font-size:11pt;\">)</span></span></span> <span style=\"font-size:11pt;\"><span style=\"color:#404040\">mary</span><span style=\"color:#7F7F6F;font-size:8pt\">/Cp.s/en</span></span> <span style=\"color:#377eb8\"><span style=\"font-weight:bold;font-size:11pt;\">(</span><span style=\"font-size:11pt;\"><span style=\"font-weight:bold;color:#377eb8\">a</span><span style=\"color:#7F7F6F;font-size:8pt\">/Md/en</span></span> <span style=\"color:#4daf4a\"><span style=\"font-weight:bold;font-size:11pt;\">(</span><span style=\"color:#984ea3\"><span style=\"font-weight:bold;font-size:11pt;\">(</span><span style=\"font-size:11pt;\"><span style=\"font-weight:bold;color:#984ea3\">very</span><span style=\"color:#7F7F6F;font-size:8pt\">/M/en</span></span> <span style=\"font-size:11pt;\"><span style=\"font-weight:bold;color:#404040\">old</span><span style=\"color:#7F7F6F;font-size:8pt\">/Ma/en</span></span><span style=\"color:#984ea3\"><span style=\"font-weight:bold;font-size:11pt;\">)</span></span></span> <span style=\"font-size:11pt;\"><span style=\"color:#404040\">violin</span><span style=\"color:#7F7F6F;font-size:8pt\">/Cc.s/en</span></span><span style=\"color:#4daf4a\"><span style=\"font-weight:bold;font-size:11pt;\">)</span></span><span style=\"color:#377eb8\"><span style=\"font-weight:bold;font-size:11pt;\">)</span></span><span style=\"color:#a65628\"><span style=\"font-weight:bold;font-size:11pt;\">)</span></span></span></span></span>"
      ],
      "text/plain": [
       "<IPython.core.display.HTML object>"
      ]
     },
     "metadata": {},
     "output_type": "display_data"
    },
    {
     "data": {
      "text/html": [
       "<span style=\"color:#a65628\"><span style=\"font-weight:bold;font-size:11pt;\">(</span><span style=\"color:#377eb8\"><span style=\"font-weight:bold;font-size:11pt;\">(</span><span style=\"font-size:11pt;\"><span style=\"font-weight:bold;color:#377eb8\">very</span><span style=\"color:#7F7F6F;font-size:8pt\">/M/en</span></span> <span style=\"font-size:11pt;\"><span style=\"font-weight:bold;color:#404040\">old</span><span style=\"color:#7F7F6F;font-size:8pt\">/Ma/en</span></span><span style=\"color:#377eb8\"><span style=\"font-weight:bold;font-size:11pt;\">)</span></span></span> <span style=\"font-size:11pt;\"><span style=\"color:#404040\">violin</span><span style=\"color:#7F7F6F;font-size:8pt\">/Cc.s/en</span></span><span style=\"color:#a65628\"><span style=\"font-weight:bold;font-size:11pt;\">)</span></span></span>"
      ],
      "text/plain": [
       "<IPython.core.display.HTML object>"
      ]
     },
     "metadata": {},
     "output_type": "display_data"
    },
    {
     "data": {
      "text/html": [
       "<span style=\"color:#a65628\"><span style=\"font-weight:bold;font-size:11pt;\">(</span><span style=\"font-size:11pt;\"><span style=\"font-weight:bold;color:#a65628\">a</span><span style=\"color:#7F7F6F;font-size:8pt\">/Md/en</span></span> <span style=\"color:#377eb8\"><span style=\"font-weight:bold;font-size:11pt;\">(</span><span style=\"color:#4daf4a\"><span style=\"font-weight:bold;font-size:11pt;\">(</span><span style=\"font-size:11pt;\"><span style=\"font-weight:bold;color:#4daf4a\">very</span><span style=\"color:#7F7F6F;font-size:8pt\">/M/en</span></span> <span style=\"font-size:11pt;\"><span style=\"font-weight:bold;color:#404040\">old</span><span style=\"color:#7F7F6F;font-size:8pt\">/Ma/en</span></span><span style=\"color:#4daf4a\"><span style=\"font-weight:bold;font-size:11pt;\">)</span></span></span> <span style=\"font-size:11pt;\"><span style=\"color:#404040\">violin</span><span style=\"color:#7F7F6F;font-size:8pt\">/Cc.s/en</span></span><span style=\"color:#377eb8\"><span style=\"font-weight:bold;font-size:11pt;\">)</span></span><span style=\"color:#a65628\"><span style=\"font-weight:bold;font-size:11pt;\">)</span></span></span></span>"
      ],
      "text/plain": [
       "<IPython.core.display.HTML object>"
      ]
     },
     "metadata": {},
     "output_type": "display_data"
    },
    {
     "data": {
      "text/html": [
       "<span style=\"color:#a65628\"><span style=\"font-weight:bold;font-size:11pt;\">(</span><span style=\"font-size:11pt;\"><span style=\"font-weight:bold;color:#a65628\">is</span><span style=\"color:#7F7F6F;font-size:8pt\">/Av.|f--3s-/en</span></span> <span style=\"font-size:11pt;\"><span style=\"color:#404040\">playing</span><span style=\"color:#7F7F6F;font-size:8pt\">/Pd.so.|pg----/en</span></span><span style=\"color:#a65628\"><span style=\"font-weight:bold;font-size:11pt;\">)</span></span></span>"
      ],
      "text/plain": [
       "<IPython.core.display.HTML object>"
      ]
     },
     "metadata": {},
     "output_type": "display_data"
    },
    {
     "data": {
      "text/html": [
       "<span style=\"color:#a65628\"><span style=\"font-weight:bold;font-size:11pt;\">(</span><span style=\"font-size:11pt;\"><span style=\"font-weight:bold;color:#a65628\">very</span><span style=\"color:#7F7F6F;font-size:8pt\">/M/en</span></span> <span style=\"font-size:11pt;\"><span style=\"color:#404040\">old</span><span style=\"color:#7F7F6F;font-size:8pt\">/Ma/en</span></span><span style=\"color:#a65628\"><span style=\"font-weight:bold;font-size:11pt;\">)</span></span></span>"
      ],
      "text/plain": [
       "<IPython.core.display.HTML object>"
      ]
     },
     "metadata": {},
     "output_type": "display_data"
    },
    {
     "data": {
      "text/html": [
       "<span style=\"font-size:11pt;\"><span style=\"color:#000\">a</span><span style=\"color:#7F7F6F;font-size:8pt\">/Md/en</span></span>"
      ],
      "text/plain": [
       "<IPython.core.display.HTML object>"
      ]
     },
     "metadata": {},
     "output_type": "display_data"
    },
    {
     "data": {
      "text/html": [
       "<span style=\"font-size:11pt;\"><span style=\"color:#000\">is</span><span style=\"color:#7F7F6F;font-size:8pt\">/Av.|f--3s-/en</span></span>"
      ],
      "text/plain": [
       "<IPython.core.display.HTML object>"
      ]
     },
     "metadata": {},
     "output_type": "display_data"
    },
    {
     "data": {
      "text/html": [
       "<span style=\"font-size:11pt;\"><span style=\"color:#000\">mary</span><span style=\"color:#7F7F6F;font-size:8pt\">/Cp.s/en</span></span>"
      ],
      "text/plain": [
       "<IPython.core.display.HTML object>"
      ]
     },
     "metadata": {},
     "output_type": "display_data"
    },
    {
     "data": {
      "text/html": [
       "<span style=\"font-size:11pt;\"><span style=\"color:#000\">old</span><span style=\"color:#7F7F6F;font-size:8pt\">/Ma/en</span></span>"
      ],
      "text/plain": [
       "<IPython.core.display.HTML object>"
      ]
     },
     "metadata": {},
     "output_type": "display_data"
    },
    {
     "data": {
      "text/html": [
       "<span style=\"font-size:11pt;\"><span style=\"color:#000\">playing</span><span style=\"color:#7F7F6F;font-size:8pt\">/Pd.so.|pg----/en</span></span>"
      ],
      "text/plain": [
       "<IPython.core.display.HTML object>"
      ]
     },
     "metadata": {},
     "output_type": "display_data"
    },
    {
     "data": {
      "text/html": [
       "<span style=\"font-size:11pt;\"><span style=\"color:#000\">very</span><span style=\"color:#7F7F6F;font-size:8pt\">/M/en</span></span>"
      ],
      "text/plain": [
       "<IPython.core.display.HTML object>"
      ]
     },
     "metadata": {},
     "output_type": "display_data"
    },
    {
     "data": {
      "text/html": [
       "<span style=\"font-size:11pt;\"><span style=\"color:#000\">violin</span><span style=\"color:#7F7F6F;font-size:8pt\">/Cc.s/en</span></span>"
      ],
      "text/plain": [
       "<IPython.core.display.HTML object>"
      ]
     },
     "metadata": {},
     "output_type": "display_data"
    }
   ],
   "source": [
    "for edge in hg.all():\n",
    "    show(edge, style='oneline', roots_only=False)"
   ]
  },
  {
   "cell_type": "markdown",
   "metadata": {},
   "source": [
    "## Search with patterns"
   ]
  },
  {
   "cell_type": "code",
   "execution_count": 6,
   "metadata": {
    "ExecuteTime": {
     "end_time": "2020-04-06T14:32:59.782349Z",
     "start_time": "2020-04-06T14:32:59.775789Z"
    }
   },
   "outputs": [
    {
     "data": {
      "text/html": [
       "<span style=\"color:#a65628\"><span style=\"font-weight:bold;font-size:11pt;\">(</span><span style=\"color:#377eb8\"><span style=\"font-weight:bold;font-size:11pt;\">(</span><span style=\"font-size:11pt;\"><span style=\"font-weight:bold;color:#377eb8\">is</span><span style=\"color:#7F7F6F;font-size:8pt\">/Av.|f--3s-/en</span></span> <span style=\"font-size:11pt;\"><span style=\"font-weight:bold;color:#404040\">playing</span><span style=\"color:#7F7F6F;font-size:8pt\">/Pd.so.|pg----/en</span></span><span style=\"color:#377eb8\"><span style=\"font-weight:bold;font-size:11pt;\">)</span></span></span> <span style=\"font-size:11pt;\"><span style=\"color:#404040\">mary</span><span style=\"color:#7F7F6F;font-size:8pt\">/Cp.s/en</span></span> <span style=\"color:#377eb8\"><span style=\"font-weight:bold;font-size:11pt;\">(</span><span style=\"font-size:11pt;\"><span style=\"font-weight:bold;color:#377eb8\">a</span><span style=\"color:#7F7F6F;font-size:8pt\">/Md/en</span></span> <span style=\"color:#4daf4a\"><span style=\"font-weight:bold;font-size:11pt;\">(</span><span style=\"color:#984ea3\"><span style=\"font-weight:bold;font-size:11pt;\">(</span><span style=\"font-size:11pt;\"><span style=\"font-weight:bold;color:#984ea3\">very</span><span style=\"color:#7F7F6F;font-size:8pt\">/M/en</span></span> <span style=\"font-size:11pt;\"><span style=\"font-weight:bold;color:#404040\">old</span><span style=\"color:#7F7F6F;font-size:8pt\">/Ma/en</span></span><span style=\"color:#984ea3\"><span style=\"font-weight:bold;font-size:11pt;\">)</span></span></span> <span style=\"font-size:11pt;\"><span style=\"color:#404040\">violin</span><span style=\"color:#7F7F6F;font-size:8pt\">/Cc.s/en</span></span><span style=\"color:#4daf4a\"><span style=\"font-weight:bold;font-size:11pt;\">)</span></span><span style=\"color:#377eb8\"><span style=\"font-weight:bold;font-size:11pt;\">)</span></span><span style=\"color:#a65628\"><span style=\"font-weight:bold;font-size:11pt;\">)</span></span></span></span></span>"
      ],
      "text/plain": [
       "<IPython.core.display.HTML object>"
      ]
     },
     "metadata": {},
     "output_type": "display_data"
    }
   ],
   "source": [
    "def search_and_show(pattern):\n",
    "    for edge in hg.search(pattern):\n",
    "        show(edge, style='oneline', roots_only=False)\n",
    "\n",
    "# '...' at the end indicates that the edge may have an arbitrary number of extra entities\n",
    "search_and_show('((is/Av.|f--3s-/en playing/Pd.so.|pg----/en) ...)')"
   ]
  },
  {
   "cell_type": "code",
   "execution_count": 7,
   "metadata": {
    "ExecuteTime": {
     "end_time": "2020-04-06T14:32:59.802788Z",
     "start_time": "2020-04-06T14:32:59.784564Z"
    }
   },
   "outputs": [
    {
     "name": "stdout",
     "output_type": "stream",
     "text": [
      "example #1:\n"
     ]
    },
    {
     "data": {
      "text/html": [
       "<span style=\"color:#a65628\"><span style=\"font-weight:bold;font-size:11pt;\">(</span><span style=\"color:#377eb8\"><span style=\"font-weight:bold;font-size:11pt;\">(</span><span style=\"font-size:11pt;\"><span style=\"font-weight:bold;color:#377eb8\">is</span><span style=\"color:#7F7F6F;font-size:8pt\">/Av.|f--3s-/en</span></span> <span style=\"font-size:11pt;\"><span style=\"font-weight:bold;color:#404040\">playing</span><span style=\"color:#7F7F6F;font-size:8pt\">/Pd.so.|pg----/en</span></span><span style=\"color:#377eb8\"><span style=\"font-weight:bold;font-size:11pt;\">)</span></span></span> <span style=\"font-size:11pt;\"><span style=\"color:#404040\">mary</span><span style=\"color:#7F7F6F;font-size:8pt\">/Cp.s/en</span></span> <span style=\"color:#377eb8\"><span style=\"font-weight:bold;font-size:11pt;\">(</span><span style=\"font-size:11pt;\"><span style=\"font-weight:bold;color:#377eb8\">a</span><span style=\"color:#7F7F6F;font-size:8pt\">/Md/en</span></span> <span style=\"color:#4daf4a\"><span style=\"font-weight:bold;font-size:11pt;\">(</span><span style=\"color:#984ea3\"><span style=\"font-weight:bold;font-size:11pt;\">(</span><span style=\"font-size:11pt;\"><span style=\"font-weight:bold;color:#984ea3\">very</span><span style=\"color:#7F7F6F;font-size:8pt\">/M/en</span></span> <span style=\"font-size:11pt;\"><span style=\"font-weight:bold;color:#404040\">old</span><span style=\"color:#7F7F6F;font-size:8pt\">/Ma/en</span></span><span style=\"color:#984ea3\"><span style=\"font-weight:bold;font-size:11pt;\">)</span></span></span> <span style=\"font-size:11pt;\"><span style=\"color:#404040\">violin</span><span style=\"color:#7F7F6F;font-size:8pt\">/Cc.s/en</span></span><span style=\"color:#4daf4a\"><span style=\"font-weight:bold;font-size:11pt;\">)</span></span><span style=\"color:#377eb8\"><span style=\"font-weight:bold;font-size:11pt;\">)</span></span><span style=\"color:#a65628\"><span style=\"font-weight:bold;font-size:11pt;\">)</span></span></span></span></span>"
      ],
      "text/plain": [
       "<IPython.core.display.HTML object>"
      ]
     },
     "metadata": {},
     "output_type": "display_data"
    },
    {
     "name": "stdout",
     "output_type": "stream",
     "text": [
      "example #2:\n"
     ]
    },
    {
     "data": {
      "text/html": [
       "<span style=\"color:#a65628\"><span style=\"font-weight:bold;font-size:11pt;\">(</span><span style=\"color:#377eb8\"><span style=\"font-weight:bold;font-size:11pt;\">(</span><span style=\"font-size:11pt;\"><span style=\"font-weight:bold;color:#377eb8\">is</span><span style=\"color:#7F7F6F;font-size:8pt\">/Av.|f--3s-/en</span></span> <span style=\"font-size:11pt;\"><span style=\"font-weight:bold;color:#404040\">playing</span><span style=\"color:#7F7F6F;font-size:8pt\">/Pd.so.|pg----/en</span></span><span style=\"color:#377eb8\"><span style=\"font-weight:bold;font-size:11pt;\">)</span></span></span> <span style=\"font-size:11pt;\"><span style=\"color:#404040\">mary</span><span style=\"color:#7F7F6F;font-size:8pt\">/Cp.s/en</span></span> <span style=\"color:#377eb8\"><span style=\"font-weight:bold;font-size:11pt;\">(</span><span style=\"font-size:11pt;\"><span style=\"font-weight:bold;color:#377eb8\">a</span><span style=\"color:#7F7F6F;font-size:8pt\">/Md/en</span></span> <span style=\"color:#4daf4a\"><span style=\"font-weight:bold;font-size:11pt;\">(</span><span style=\"color:#984ea3\"><span style=\"font-weight:bold;font-size:11pt;\">(</span><span style=\"font-size:11pt;\"><span style=\"font-weight:bold;color:#984ea3\">very</span><span style=\"color:#7F7F6F;font-size:8pt\">/M/en</span></span> <span style=\"font-size:11pt;\"><span style=\"font-weight:bold;color:#404040\">old</span><span style=\"color:#7F7F6F;font-size:8pt\">/Ma/en</span></span><span style=\"color:#984ea3\"><span style=\"font-weight:bold;font-size:11pt;\">)</span></span></span> <span style=\"font-size:11pt;\"><span style=\"color:#404040\">violin</span><span style=\"color:#7F7F6F;font-size:8pt\">/Cc.s/en</span></span><span style=\"color:#4daf4a\"><span style=\"font-weight:bold;font-size:11pt;\">)</span></span><span style=\"color:#377eb8\"><span style=\"font-weight:bold;font-size:11pt;\">)</span></span><span style=\"color:#a65628\"><span style=\"font-weight:bold;font-size:11pt;\">)</span></span></span></span></span>"
      ],
      "text/plain": [
       "<IPython.core.display.HTML object>"
      ]
     },
     "metadata": {},
     "output_type": "display_data"
    },
    {
     "name": "stdout",
     "output_type": "stream",
     "text": [
      "example #3:\n"
     ]
    },
    {
     "data": {
      "text/html": [
       "<span style=\"color:#a65628\"><span style=\"font-weight:bold;font-size:11pt;\">(</span><span style=\"color:#377eb8\"><span style=\"font-weight:bold;font-size:11pt;\">(</span><span style=\"font-size:11pt;\"><span style=\"font-weight:bold;color:#377eb8\">is</span><span style=\"color:#7F7F6F;font-size:8pt\">/Av.|f--3s-/en</span></span> <span style=\"font-size:11pt;\"><span style=\"font-weight:bold;color:#404040\">playing</span><span style=\"color:#7F7F6F;font-size:8pt\">/Pd.so.|pg----/en</span></span><span style=\"color:#377eb8\"><span style=\"font-weight:bold;font-size:11pt;\">)</span></span></span> <span style=\"font-size:11pt;\"><span style=\"color:#404040\">mary</span><span style=\"color:#7F7F6F;font-size:8pt\">/Cp.s/en</span></span> <span style=\"color:#377eb8\"><span style=\"font-weight:bold;font-size:11pt;\">(</span><span style=\"font-size:11pt;\"><span style=\"font-weight:bold;color:#377eb8\">a</span><span style=\"color:#7F7F6F;font-size:8pt\">/Md/en</span></span> <span style=\"color:#4daf4a\"><span style=\"font-weight:bold;font-size:11pt;\">(</span><span style=\"color:#984ea3\"><span style=\"font-weight:bold;font-size:11pt;\">(</span><span style=\"font-size:11pt;\"><span style=\"font-weight:bold;color:#984ea3\">very</span><span style=\"color:#7F7F6F;font-size:8pt\">/M/en</span></span> <span style=\"font-size:11pt;\"><span style=\"font-weight:bold;color:#404040\">old</span><span style=\"color:#7F7F6F;font-size:8pt\">/Ma/en</span></span><span style=\"color:#984ea3\"><span style=\"font-weight:bold;font-size:11pt;\">)</span></span></span> <span style=\"font-size:11pt;\"><span style=\"color:#404040\">violin</span><span style=\"color:#7F7F6F;font-size:8pt\">/Cc.s/en</span></span><span style=\"color:#4daf4a\"><span style=\"font-weight:bold;font-size:11pt;\">)</span></span><span style=\"color:#377eb8\"><span style=\"font-weight:bold;font-size:11pt;\">)</span></span><span style=\"color:#a65628\"><span style=\"font-weight:bold;font-size:11pt;\">)</span></span></span></span></span>"
      ],
      "text/plain": [
       "<IPython.core.display.HTML object>"
      ]
     },
     "metadata": {},
     "output_type": "display_data"
    },
    {
     "name": "stdout",
     "output_type": "stream",
     "text": [
      "example #4:\n"
     ]
    },
    {
     "data": {
      "text/html": [
       "<span style=\"color:#a65628\"><span style=\"font-weight:bold;font-size:11pt;\">(</span><span style=\"color:#377eb8\"><span style=\"font-weight:bold;font-size:11pt;\">(</span><span style=\"font-size:11pt;\"><span style=\"font-weight:bold;color:#377eb8\">is</span><span style=\"color:#7F7F6F;font-size:8pt\">/Av.|f--3s-/en</span></span> <span style=\"font-size:11pt;\"><span style=\"font-weight:bold;color:#404040\">playing</span><span style=\"color:#7F7F6F;font-size:8pt\">/Pd.so.|pg----/en</span></span><span style=\"color:#377eb8\"><span style=\"font-weight:bold;font-size:11pt;\">)</span></span></span> <span style=\"font-size:11pt;\"><span style=\"color:#404040\">mary</span><span style=\"color:#7F7F6F;font-size:8pt\">/Cp.s/en</span></span> <span style=\"color:#377eb8\"><span style=\"font-weight:bold;font-size:11pt;\">(</span><span style=\"font-size:11pt;\"><span style=\"font-weight:bold;color:#377eb8\">a</span><span style=\"color:#7F7F6F;font-size:8pt\">/Md/en</span></span> <span style=\"color:#4daf4a\"><span style=\"font-weight:bold;font-size:11pt;\">(</span><span style=\"color:#984ea3\"><span style=\"font-weight:bold;font-size:11pt;\">(</span><span style=\"font-size:11pt;\"><span style=\"font-weight:bold;color:#984ea3\">very</span><span style=\"color:#7F7F6F;font-size:8pt\">/M/en</span></span> <span style=\"font-size:11pt;\"><span style=\"font-weight:bold;color:#404040\">old</span><span style=\"color:#7F7F6F;font-size:8pt\">/Ma/en</span></span><span style=\"color:#984ea3\"><span style=\"font-weight:bold;font-size:11pt;\">)</span></span></span> <span style=\"font-size:11pt;\"><span style=\"color:#404040\">violin</span><span style=\"color:#7F7F6F;font-size:8pt\">/Cc.s/en</span></span><span style=\"color:#4daf4a\"><span style=\"font-weight:bold;font-size:11pt;\">)</span></span><span style=\"color:#377eb8\"><span style=\"font-weight:bold;font-size:11pt;\">)</span></span><span style=\"color:#a65628\"><span style=\"font-weight:bold;font-size:11pt;\">)</span></span></span></span></span>"
      ],
      "text/plain": [
       "<IPython.core.display.HTML object>"
      ]
     },
     "metadata": {},
     "output_type": "display_data"
    }
   ],
   "source": [
    "# * matches any entity (atom or hyperedge)\n",
    "print('example #1:')\n",
    "search_and_show('((is/Av.|f--3s-/en playing/Pd.so.|pg----/en) * *)')\n",
    "\n",
    "# @ matches any atom\n",
    "# & mathes any hyperedge\n",
    "print('example #2:')\n",
    "search_and_show('((is/Av.|f--3s-/en playing/Pd.so.|pg----/en) @ &)')\n",
    "\n",
    "# any combination of wildcards and entities is possibleabs\n",
    "print('example #3:')\n",
    "search_and_show('(* mary/Cp.s/en *)')\n",
    "\n",
    "print('example #4:')\n",
    "search_and_show('(& @ (a/Md/en ((very/M/en old/Ma/en) violin/Cc.s/en)))')"
   ]
  },
  {
   "cell_type": "code",
   "execution_count": null,
   "metadata": {},
   "outputs": [],
   "source": []
  }
 ],
 "metadata": {
  "kernelspec": {
   "display_name": "Python 3",
   "language": "python",
   "name": "python3"
  },
  "language_info": {
   "codemirror_mode": {
    "name": "ipython",
    "version": 3
   },
   "file_extension": ".py",
   "mimetype": "text/x-python",
   "name": "python",
   "nbconvert_exporter": "python",
   "pygments_lexer": "ipython3",
   "version": "3.7.7"
  }
 },
 "nbformat": 4,
 "nbformat_minor": 2
}
